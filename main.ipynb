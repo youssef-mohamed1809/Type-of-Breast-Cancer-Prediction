{
 "cells": [
  {
   "cell_type": "code",
   "execution_count": null,
   "metadata": {},
   "outputs": [
    {
     "ename": "",
     "evalue": "",
     "output_type": "error",
     "traceback": [
      "\u001b[1;31mRunning cells with 'Python 3.12.1' requires the ipykernel package.\n",
      "\u001b[1;31mRun the following command to install 'ipykernel' into the Python environment. \n",
      "\u001b[1;31mCommand: 'c:/Python312/python.exe -m pip install ipykernel -U --user --force-reinstall'"
     ]
    }
   ],
   "source": [
    "import numpy as np\n",
    "import pandas as pd\n",
    "import matplotlib.pyplot as plt\n",
    "import seaborn as sns\n",
    "from sklearn.preprocessing import LabelEncoder, MinMaxScaler\n",
    "from sklearn.cluster import DBSCAN\n",
    "\n",
    "OUTPUT = 0\n",
    "DROP = True\n",
    "IQR_OPTION = 1\n",
    "\n",
    "data = pd.read_csv(\"breast-cancer.csv\")\n",
    "diagnosis = data['diagnosis']"
   ]
  },
  {
   "cell_type": "code",
   "execution_count": null,
   "metadata": {},
   "outputs": [],
   "source": [
    "if OUTPUT:\n",
    "    print(data.head())\n",
    "    print(data.info())\n",
    "    print(data.describe())\n",
    "    categories = ['M', 'L']\n",
    "    plt.figure()\n",
    "    class_count = diagnosis.value_counts()\n",
    "    sns.barplot(x=class_count.index, y=class_count.values)"
   ]
  },
  {
   "cell_type": "markdown",
   "metadata": {},
   "source": [
    "# Data Preprocessing"
   ]
  },
  {
   "cell_type": "markdown",
   "metadata": {},
   "source": [
    "### Remove ID column"
   ]
  },
  {
   "cell_type": "code",
   "execution_count": null,
   "metadata": {},
   "outputs": [],
   "source": [
    "data = data.iloc[:, 1:]"
   ]
  },
  {
   "cell_type": "markdown",
   "metadata": {},
   "source": [
    "### Check if there are any empty values"
   ]
  },
  {
   "cell_type": "code",
   "execution_count": null,
   "metadata": {},
   "outputs": [],
   "source": [
    "if OUTPUT:\n",
    "    print(data.isnull().any())"
   ]
  },
  {
   "cell_type": "markdown",
   "metadata": {},
   "source": [
    "### Outlier Detection and Treatment"
   ]
  },
  {
   "cell_type": "code",
   "execution_count": null,
   "metadata": {},
   "outputs": [],
   "source": [
    "features = list(data)\n",
    "if OUTPUT:\n",
    "    print(features)\n",
    "features = features[2:]"
   ]
  },
  {
   "cell_type": "markdown",
   "metadata": {},
   "source": [
    "#### Using IQR"
   ]
  },
  {
   "cell_type": "code",
   "execution_count": null,
   "metadata": {},
   "outputs": [],
   "source": [
    "# features = data.iloc[:, 1:]\n",
    "# if OUTPUT:\n",
    "#     plt.figure(figsize=(15, 11))\n",
    "#     for i in range(len(features.columns)):\n",
    "#         plt.subplot(5, 6, i+1)\n",
    "#         sns.boxplot(y=features.columns[i], data=features)\n",
    "#     plt.tight_layout\n",
    "#     plt.show()"
   ]
  },
  {
   "cell_type": "markdown",
   "metadata": {},
   "source": [
    "##### IQR Option 1: Detect Outlier Based on All Values"
   ]
  },
  {
   "cell_type": "code",
   "execution_count": null,
   "metadata": {},
   "outputs": [],
   "source": [
    "# if IQR_OPTION == 1:\n",
    "#     index = []\n",
    "\n",
    "#     for feature in features:\n",
    "#         values = data[feature].values\n",
    "\n",
    "#         q1 = np.percentile(values, 25)\n",
    "#         q2 = np.percentile(values, 50)\n",
    "#         q3 = np.percentile(values, 75)\n",
    "#         iqr = q3 - q1\n",
    "        \n",
    "#         max = q3 + (1.5 * iqr)\n",
    "#         min = q1 - (1.5 * iqr)\n",
    "#         count = 0\n",
    "#         for i in range(len(values)):\n",
    "#             if values[i] > max or values[i] < min:\n",
    "#                 count += 1\n",
    "#                 index.append(i)\n",
    "#                 if not DROP:\n",
    "#                     if values[i] > max:\n",
    "#                         values[i] = max\n",
    "#                     else:\n",
    "#                         values[i] = min\n",
    "#         if OUTPUT:\n",
    "#             print(f\"For {feature} there are {count} outliers\")\n",
    "#         data[feature] = values\n",
    "        \n",
    "#     if DROP:\n",
    "#         index = list(dict.fromkeys(index))\n",
    "#         if OUTPUT:\n",
    "#             print(f\"Number of entries in old dataframe: {len(data)}\")\n",
    "#         no_outliers_data = data.drop(index=index)      \n",
    "#         if OUTPUT:\n",
    "#             print(f\"Number of entries in new dataframe: {len(no_outliers_data)}\")\n",
    "#         data = no_outliers_data.reset_index(drop=True)\n",
    "#         if OUTPUT:\n",
    "#             categories = ['M', 'L']\n",
    "#             plt.figure()\n",
    "#             class_count = no_outliers_data['diagnosis'].value_counts()\n",
    "#             print(class_count)\n",
    "#             sns.barplot(x=class_count.index, y=class_count.values)"
   ]
  },
  {
   "cell_type": "markdown",
   "metadata": {},
   "source": [
    "##### IQR Option 2: Detect Outlier Based on Diagnosis"
   ]
  },
  {
   "cell_type": "code",
   "execution_count": null,
   "metadata": {},
   "outputs": [],
   "source": [
    "\n",
    "# if IQR_OPTION == 2:\n",
    "#     benign = data[data['diagnosis'] == 'B'].reset_index(drop=True)\n",
    "\n",
    "#     index = []\n",
    "#     features = list(benign)\n",
    "#     features = features[1:]\n",
    "#     for feature in features:\n",
    "#         values = benign[feature].values\n",
    "\n",
    "#         q1 = np.percentile(values, 25)\n",
    "#         q2 = np.percentile(values, 50)\n",
    "#         q3 = np.percentile(values, 75)\n",
    "#         iqr = q3 - q1\n",
    "        \n",
    "#         max = q3 + (1.5 * iqr)\n",
    "#         min = q1 - (1.5 * iqr)\n",
    "#         count = 0\n",
    "#         for i in range(len(values)):\n",
    "#             if values[i] > max or values[i] < min:\n",
    "#                 count += 1\n",
    "#                 index.append(i)\n",
    "#                 if not DROP:\n",
    "#                     if values[i] > max:\n",
    "#                         values[i] = max\n",
    "#                     else:\n",
    "#                         values[i] = min\n",
    "#         benign[feature] = values\n",
    "\n",
    "\n",
    "#     if DROP:\n",
    "#         if OUTPUT:\n",
    "#             print(f\"Number of benign cases before outlier removal {len(benign)}\")\n",
    "#         index = list(dict.fromkeys(index))\n",
    "#         no_outliers_benign = benign.drop(index=index)\n",
    "#         if OUTPUT:\n",
    "#             print(f\"Number of benign cases after outlier removal {len(no_outliers_benign)}\")"
   ]
  },
  {
   "cell_type": "code",
   "execution_count": null,
   "metadata": {},
   "outputs": [],
   "source": [
    "# if IQR_OPTION == 2:\n",
    "#     malignant = data[data['diagnosis'] == 'M'].reset_index(drop=True)\n",
    "\n",
    "\n",
    "#     index = []\n",
    "#     features = list(malignant)\n",
    "#     features = features[1:]\n",
    "#     for feature in features:\n",
    "#         values = malignant[feature].values\n",
    "\n",
    "#         q1 = np.percentile(values, 25)\n",
    "#         q2 = np.percentile(values, 50)\n",
    "#         q3 = np.percentile(values, 75)\n",
    "#         iqr = q3 - q1\n",
    "        \n",
    "#         max = q3 + (1.5 * iqr)\n",
    "#         min = q1 - (1.5 * iqr)\n",
    "#         count = 0\n",
    "#         for i in range(len(values)):\n",
    "#             if values[i] > max or values[i] < min:\n",
    "#                 count += 1\n",
    "#                 index.append(i)\n",
    "#                 if not DROP:\n",
    "#                     if values[i] > max:\n",
    "#                         values[i] = max\n",
    "#                     else:\n",
    "#                         values[i] = min\n",
    "#         malignant[feature] = values\n",
    "\n",
    "#     if DROP:\n",
    "#         if OUTPUT:\n",
    "#             print(f\"Number of malignant cases before outlier removal {len(benign)}\")\n",
    "#         index = list(dict.fromkeys(index))\n",
    "#         no_outliers_malignant = malignant.drop(index=index)\n",
    "#         if OUTPUT:\n",
    "#             print(f\"Number of malignant cases after outlier removal {len(no_outliers_malignant)}\")"
   ]
  },
  {
   "cell_type": "code",
   "execution_count": null,
   "metadata": {},
   "outputs": [],
   "source": [
    "# if IQR_OPTION == 2:\n",
    "#     if DROP:\n",
    "#         malignant = no_outliers_malignant\n",
    "#         benign = no_outliers_benign\n",
    "#         temp_df = pd.concat([malignant, benign], ignore_index=True)\n",
    "#         if OUTPUT:\n",
    "#             plt.figure()\n",
    "#             class_count = temp_df['diagnosis'].value_counts()\n",
    "#             print(class_count)\n",
    "#             sns.barplot(x=class_count.index, y=class_count.values)\n",
    "    \n",
    "    \n",
    "#     new_data = pd.concat([malignant, benign], ignore_index=True)\n",
    "#     data = new_data.sample(frac=1).reset_index(drop=True)"
   ]
  },
  {
   "cell_type": "code",
   "execution_count": null,
   "metadata": {},
   "outputs": [],
   "source": [
    "dbscan = DBSCAN(eps=2, min_samples=3).fit(data.iloc[:,2:])\n",
    "print(dbscan.labels_)"
   ]
  },
  {
   "cell_type": "markdown",
   "metadata": {},
   "source": [
    "### Dimension Reduction"
   ]
  },
  {
   "cell_type": "code",
   "execution_count": null,
   "metadata": {},
   "outputs": [],
   "source": [
    "if OUTPUT:\n",
    "    plt.figure(figsize=(25,20))\n",
    "    sns.heatmap(data=(data.iloc[:, 2:]).corr(), linewidths=10, cmap='crest')"
   ]
  },
  {
   "cell_type": "code",
   "execution_count": null,
   "metadata": {},
   "outputs": [],
   "source": [
    "# data = data.drop(columns=['radius_worst', 'perimeter_worst', 'area_worst', 'perimeter_se', 'area_se'])"
   ]
  },
  {
   "cell_type": "markdown",
   "metadata": {},
   "source": [
    "### Data Encoding"
   ]
  },
  {
   "cell_type": "code",
   "execution_count": null,
   "metadata": {},
   "outputs": [],
   "source": [
    "labelEncoder = LabelEncoder()\n",
    "labelEncoder.fit(data['diagnosis'])\n",
    "data['diagnosis'] = labelEncoder.transform(data['diagnosis'])\n",
    "if OUTPUT:\n",
    "    print(data['diagnosis'])"
   ]
  },
  {
   "cell_type": "markdown",
   "metadata": {},
   "source": [
    "### Data Normalization"
   ]
  },
  {
   "cell_type": "code",
   "execution_count": null,
   "metadata": {},
   "outputs": [],
   "source": [
    "normalizer = MinMaxScaler(feature_range=(1, 10))\n",
    "data = normalizer.fit_transform(data)\n",
    "if OUTPUT:\n",
    "    print(data)"
   ]
  }
 ],
 "metadata": {
  "kernelspec": {
   "display_name": "Python 3",
   "language": "python",
   "name": "python3"
  },
  "language_info": {
   "codemirror_mode": {
    "name": "ipython",
    "version": 3
   },
   "file_extension": ".py",
   "mimetype": "text/x-python",
   "name": "python",
   "nbconvert_exporter": "python",
   "pygments_lexer": "ipython3",
   "version": "3.12.1"
  }
 },
 "nbformat": 4,
 "nbformat_minor": 2
}
