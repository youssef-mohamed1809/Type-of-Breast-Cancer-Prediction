{
 "cells": [
  {
   "cell_type": "code",
   "execution_count": null,
   "metadata": {},
   "outputs": [],
   "source": [
    "import numpy as np\n",
    "import pandas as pd\n",
    "import matplotlib.pyplot as plt\n",
    "import seaborn as sns\n",
    "\n",
    "OUTPUT = 1\n",
    "\n",
    "data = pd.read_csv(\"breast-cancer.csv\")\n",
    "diagnosis = data['diagnosis']"
   ]
  },
  {
   "cell_type": "code",
   "execution_count": null,
   "metadata": {},
   "outputs": [],
   "source": [
    "if OUTPUT:\n",
    "    data.head()\n",
    "    data.info()\n",
    "    print(data.describe())\n",
    "    categories = ['M', 'L']\n",
    "    plt.figure()\n",
    "    class_count = diagnosis.value_counts()\n",
    "    sns.barplot(x=class_count.index, y=class_count.values)"
   ]
  },
  {
   "cell_type": "markdown",
   "metadata": {},
   "source": [
    "# Data Preprocessing"
   ]
  },
  {
   "cell_type": "markdown",
   "metadata": {},
   "source": [
    "1. Check if there are any empty values"
   ]
  },
  {
   "cell_type": "code",
   "execution_count": null,
   "metadata": {},
   "outputs": [],
   "source": [
    "if OUTPUT:\n",
    "    data.isnull().any()"
   ]
  },
  {
   "cell_type": "markdown",
   "metadata": {},
   "source": [
    "2. Check for Outliers"
   ]
  },
  {
   "cell_type": "code",
   "execution_count": null,
   "metadata": {},
   "outputs": [],
   "source": [
    "plt.figure(figsize=(15, 11))\n",
    "features = data.iloc[:, 2:]\n",
    "for i in range(len(features.columns)):\n",
    "    plt.subplot(5, 6, i+1)\n",
    "    sns.boxplot(y=features.columns[i], data=features)\n",
    "plt.tight_layout\n",
    "plt.show()"
   ]
  },
  {
   "cell_type": "code",
   "execution_count": null,
   "metadata": {},
   "outputs": [],
   "source": [
    "plt.figure(figsize=(25,20))\n",
    "sns.heatmap(data=(data.iloc[:, 2:]).corr(), linewidths=5, cmap='crest')"
   ]
  },
  {
   "cell_type": "code",
   "execution_count": null,
   "metadata": {},
   "outputs": [],
   "source": [
    "## Outlier Detection\n",
    "\n",
    "### All entries\n",
    "\n",
    "# index = []\n",
    "\n",
    "# length = 0\n",
    "\n",
    "# features = list(data)\n",
    "# print(features)\n",
    "# features = features[2:]\n",
    "\n",
    "# for feature in features:\n",
    "#     values = data[feature].values\n",
    "\n",
    "#     q1 = np.percentile(values, 25)\n",
    "#     q2 = np.percentile(values, 50)\n",
    "#     q3 = np.percentile(values, 75)\n",
    "#     iqr = q3 - q1\n",
    "    \n",
    "#     max = q3 + (1.5 * iqr)\n",
    "#     min = q1 - (1.5 * iqr)\n",
    "#     count = 0\n",
    "#     for i in range(len(values)):\n",
    "#         if values[i] > max or values[i] < min:\n",
    "#             count += 1\n",
    "#             index.append(i)\n",
    "#     print(f\"For {feature} there are {count} outliers\")\n",
    "      \n",
    "      \n",
    "# index = list(dict.fromkeys(index))\n",
    "\n",
    "# print(f\"Number of entries in old dataframe: {len(data)}\")\n",
    "\n",
    "# no_outliers_data = data.drop(index=index)      \n",
    "# print(f\"Number of outliers in new dataframe: {len(no_outliers_data)}\")\n",
    "\n",
    "# categories = ['M', 'L']\n",
    "# plt.figure()\n",
    "# class_count = no_outliers_data['diagnosis'].value_counts()\n",
    "# sns.barplot(x=class_count.index, y=class_count.values)\n",
    "\n"
   ]
  },
  {
   "cell_type": "markdown",
   "metadata": {},
   "source": [
    "## Outlier Detection for malignant and benign alone "
   ]
  },
  {
   "cell_type": "code",
   "execution_count": null,
   "metadata": {},
   "outputs": [
    {
     "name": "stdout",
     "output_type": "stream",
     "text": [
      "103\n"
     ]
    }
   ],
   "source": [
    "\n",
    "benign = data[data['diagnosis'] == 'B'].reset_index(drop=True)\n",
    "\n",
    "index = []\n",
    "features = list(benign)\n",
    "features = features[2:]\n",
    "for feature in features:\n",
    "    values = benign[feature].values\n",
    "\n",
    "    q1 = np.percentile(values, 25)\n",
    "    q2 = np.percentile(values, 50)\n",
    "    q3 = np.percentile(values, 75)\n",
    "    iqr = q3 - q1\n",
    "    \n",
    "    max = q3 + (1.5 * iqr)\n",
    "    min = q1 - (1.5 * iqr)\n",
    "    count = 0\n",
    "    for i in range(len(values)):\n",
    "        if values[i] > max or values[i] < min:\n",
    "            count += 1\n",
    "            index.append(i)\n",
    "\n",
    "\n",
    "index = list(dict.fromkeys(index))\n",
    "print(len(index))\n"
   ]
  },
  {
   "cell_type": "code",
   "execution_count": 34,
   "metadata": {},
   "outputs": [
    {
     "name": "stdout",
     "output_type": "stream",
     "text": [
      "61\n"
     ]
    }
   ],
   "source": [
    "malignant = data[data['diagnosis'] == 'M'].reset_index(drop=True)\n",
    "\n",
    "\n",
    "index = []\n",
    "features = list(malignant)\n",
    "features = features[2:]\n",
    "for feature in features:\n",
    "    values = malignant[feature].values\n",
    "\n",
    "    q1 = np.percentile(values, 25)\n",
    "    q2 = np.percentile(values, 50)\n",
    "    q3 = np.percentile(values, 75)\n",
    "    iqr = q3 - q1\n",
    "    \n",
    "    max = q3 + (1.5 * iqr)\n",
    "    min = q1 - (1.5 * iqr)\n",
    "    count = 0\n",
    "    for i in range(len(values)):\n",
    "        if values[i] > max or values[i] < min:\n",
    "            count += 1\n",
    "            index.append(i)\n",
    "\n",
    "\n",
    "index = list(dict.fromkeys(index))\n",
    "print(len(index))"
   ]
  }
 ],
 "metadata": {
  "kernelspec": {
   "display_name": "Python 3",
   "language": "python",
   "name": "python3"
  },
  "language_info": {
   "codemirror_mode": {
    "name": "ipython",
    "version": 3
   },
   "file_extension": ".py",
   "mimetype": "text/x-python",
   "name": "python",
   "nbconvert_exporter": "python",
   "pygments_lexer": "ipython3",
   "version": "3.12.3"
  }
 },
 "nbformat": 4,
 "nbformat_minor": 2
}
